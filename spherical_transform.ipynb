{
 "metadata": {
  "language_info": {
   "codemirror_mode": {
    "name": "ipython",
    "version": 3
   },
   "file_extension": ".py",
   "mimetype": "text/x-python",
   "name": "python",
   "nbconvert_exporter": "python",
   "pygments_lexer": "ipython3",
   "version": "3.8.5-final"
  },
  "orig_nbformat": 2,
  "kernelspec": {
   "name": "python38564bitbe99891f348344d585ea07157a03dc4e",
   "display_name": "Python 3.8.5 64-bit",
   "language": "python"
  }
 },
 "nbformat": 4,
 "nbformat_minor": 2,
 "cells": [
  {
   "cell_type": "code",
   "execution_count": 1,
   "metadata": {},
   "outputs": [],
   "source": [
    "import numpy as np\n",
    "import cv2\n",
    "\n",
    "import os\n",
    "import glob\n",
    "from multiprocessing import Pool"
   ]
  },
  {
   "cell_type": "code",
   "execution_count": 4,
   "metadata": {},
   "outputs": [],
   "source": [
    "def create_circular_mask(h, w, center=None, radius=None):\n",
    "\n",
    "    if center is None: # use the middle of the image \n",
    "        center = (int(w/2), int(h/2))\n",
    "    if radius is None: # use the smallest distance between the center and image walls\n",
    "        radius = min(center[0], center[1], w-center[0], h-center[1])\n",
    "\n",
    "    Y, X = np.ogrid[:h, :w]\n",
    "    dist_from_center = np.sqrt((X - center[0])**2 + (Y-center[1])**2)\n",
    "\n",
    "    mask = dist_from_center <= radius\n",
    "    return mask"
   ]
  },
  {
   "cell_type": "code",
   "execution_count": 5,
   "metadata": {
    "tags": []
   },
   "outputs": [],
   "source": [
    "FOV = np.pi\n",
    "DIM = (1280, 1280)\n",
    "\n",
    "# camera rotation\n",
    "hcam_deg = 0\n",
    "vcam_deg = 0\n",
    "xcam_deg = -45\n",
    "\n",
    "hcam_rad = hcam_deg * np.pi / 180.0\n",
    "vcam_rad = vcam_deg * np.pi / 180.0\n",
    "xcam_rad = xcam_deg * np.pi / 180.0\n",
    "rot_x = np.array([\n",
    "    [1, 0, 0],\n",
    "    [0, np.cos(xcam_rad), -np.sin(xcam_rad)],\n",
    "    [0, np.sin(xcam_rad), np.cos(xcam_rad)]\n",
    "])\n",
    "rot_y = np.array([\n",
    "    [np.cos(vcam_rad), 0, np.sin(vcam_rad)],\n",
    "    [0, 1, 0],\n",
    "    [-np.sin(vcam_rad), 0, np.cos(vcam_rad)]\n",
    "])\n",
    "rot_z = np.array([\n",
    "    [np.cos(hcam_rad), -np.sin(hcam_rad), 0],\n",
    "    [np.sin(hcam_rad), np.cos(hcam_rad), 0],\n",
    "    [0, 0, 1]\n",
    "])\n",
    "\n",
    "mask = create_circular_mask(DIM[0], DIM[1], radius=DIM[0]/2-10)"
   ]
  },
  {
   "cell_type": "code",
   "execution_count": 4,
   "metadata": {},
   "outputs": [],
   "source": [
    "def mapping(x, y):\n",
    "    pfish = np.zeros((2, 1))\n",
    "    psph = np.zeros((3, 1))\n",
    "    width = DIM[0]\n",
    "    height = DIM[1]\n",
    "    theta = 2.0 * 3.14159265 * (x / 2560 - 0.5) # -pi to pi\n",
    "    phi = 3.14159265 * (y / 1280 - 0.5)\t# -pi/2 to pi/2\n",
    "\n",
    "    psph[0] = np.cos(phi) * np.sin(theta)\n",
    "    psph[1] = np.cos(phi) * np.cos(theta)\n",
    "    psph[2] = np.sin(phi)\n",
    "\n",
    "    psph = rot_z.dot(psph)\n",
    "    psph = rot_x.dot(psph)\n",
    "\n",
    "    theta = np.arctan2(psph[2], psph[0])\n",
    "    phi = np.arctan2(np.linalg.norm(psph[0:3:2]), psph[1]) \n",
    "    r = width / FOV * 1.55 * np.tan(phi/2)\n",
    "    # r = width / FOV * 2 * np.sin(phi/2)\n",
    "\n",
    "    # Pixel in fisheye space\n",
    "    pfish[0] = 0.5 * width + r * np.cos(theta)\n",
    "    pfish[1] = 0.5 * width + r * np.sin(theta)\n",
    "\n",
    "    return np.around(pfish).astype(int)"
   ]
  },
  {
   "cell_type": "code",
   "execution_count": 5,
   "metadata": {},
   "outputs": [],
   "source": [
    "def filter(ind):\n",
    "    i = ind // 2560\n",
    "    j = ind % 2560\n",
    "    fishcoord = mapping(j, i)\n",
    "    fishcoord[fishcoord >= DIM[0]] = DIM[0] - 1\n",
    "    fishcoord[fishcoord < 0] = 0\n",
    "    return (fishcoord[1], fishcoord[0])"
   ]
  },
  {
   "cell_type": "code",
   "execution_count": 12,
   "metadata": {},
   "outputs": [],
   "source": [
    "equirec_i = np.zeros((1280, 2560), int)\n",
    "equirec_j = np.zeros((1280, 2560), int)\n",
    "pool = Pool()\n",
    "coords = pool.map(filter, range(1280*2560))\n",
    "for ind in range(1280*2560):\n",
    "    i = ind // 2560\n",
    "    j = ind % 2560\n",
    "\n",
    "    if (False):\n",
    "        equirec_i[i, j] = 0\n",
    "        equirec_j[i, j] = 0\n",
    "    else:\n",
    "        equirec_i[i, j] = coords[ind][0]\n",
    "        equirec_j[i, j] = coords[ind][1]"
   ]
  },
  {
   "cell_type": "code",
   "execution_count": 13,
   "metadata": {},
   "outputs": [],
   "source": [
    "np.save('equirec_i_0', equirec_i)\n",
    "np.save('equirec_j_0', equirec_j)"
   ]
  },
  {
   "cell_type": "code",
   "execution_count": 2,
   "metadata": {},
   "outputs": [],
   "source": [
    "equirec_i = np.load('/home/shane/stitching/image_processing/equirec_i_0.npy')\n",
    "equirec_j = np.load('/home/shane/stitching/image_processing/equirec_j_0.npy')"
   ]
  },
  {
   "cell_type": "code",
   "execution_count": 7,
   "metadata": {},
   "outputs": [],
   "source": [
    "img = cv2.imread('/home/shane/0.jpg')\n",
    "img[~mask] = 0 \n",
    "new_img = np.zeros((1280, 2560, 3), np.uint8)\n",
    "new_img = img[equirec_i, equirec_j]\n",
    "cv2.imwrite('/home/shane/0as.jpg', new_img) \n",
    "cv2.imshow('test', new_img)\n",
    "cv2.waitKey(0)\n",
    "cv2.destroyAllWindows()"
   ]
  }
 ]
}
{
 "metadata": {
  "language_info": {
   "codemirror_mode": {
    "name": "ipython",
    "version": 3
   },
   "file_extension": ".py",
   "mimetype": "text/x-python",
   "name": "python",
   "nbconvert_exporter": "python",
   "pygments_lexer": "ipython3",
   "version": 3
  },
  "orig_nbformat": 2
 },
 "nbformat": 4,
 "nbformat_minor": 2,
 "cells": [
  {
   "cell_type": "code",
   "execution_count": null,
   "metadata": {},
   "outputs": [],
   "source": [
    "import numpy as np\n",
    "import cv2"
   ]
  },
  {
   "cell_type": "code",
   "execution_count": null,
   "metadata": {},
   "outputs": [],
   "source": [
    "#combine transformations\n",
    "for cam in [0, 2, 4]:\n",
    "    equirec_i = np.load(f'/home/shane/stitching/image_processing/equirec_i_0.npy')\n",
    "    equirec_j = np.load(f'/home/shane/stitching/image_processing/equirec_j_0.npy')\n",
    "\n",
    "    circular_i = np.load(f'/home/shane/stitching/image_processing/circular_i_{cam}.npy')\n",
    "    circular_j = np.load(f'/home/shane/stitching/image_processing/circular_j_{cam}.npy')\n",
    "\n",
    "    translate_i = np.load(f'/home/shane/stitching/image_processing/translate_i_{cam}.npy')\n",
    "    translate_j = np.load(f'/home/shane/stitching/image_processing/translate_j_{cam}.npy')\n",
    "    # transform_i = np.zeros((1280, 1280), int)\n",
    "    # transform_j = np.zeros((1280, 1280), int)\n",
    "    # for i in range(1280):\n",
    "    #     for j in range(1280):\n",
    "    #         equi_i = circular_i[i, j]\n",
    "    #         equi_j = circular_j[i, j]\n",
    "    #         img_i = equirec_i[equi_i, equi_j]\n",
    "    #         img_j = equirec_j[equi_i, equi_j]\n",
    "    #         transform_i[i, j] = img_i\n",
    "    #         transform_j[i, j] = img_j\n",
    "\n",
    "    transform_i = np.zeros((860, 860), int)\n",
    "    transform_j = np.zeros((860, 860), int)\n",
    "    for i in range(860):\n",
    "        for j in range(860):\n",
    "            equi_i = circular_i[i+210, j+210]\n",
    "            equi_j = circular_j[i+210, j+210]\n",
    "            cir_i = equirec_i[equi_i, equi_j]\n",
    "            cir_j = equirec_j[equi_i, equi_j]\n",
    "            transform_i[i, j] = cir_i\n",
    "            transform_j[i, j] = cir_j\n",
    "    transform_i = transform_i[translate_i, translate_j]\n",
    "    transform_j = transform_j[translate_i, translate_j]\n",
    "    np.save(f'transform_i_{cam}', transform_i)\n",
    "    np.save(f'transform_j_{cam}', transform_j)\n"
   ]
  },
  {
   "cell_type": "code",
   "execution_count": null,
   "metadata": {},
   "outputs": [],
   "source": [
    "transform_i = np.load('/home/shane/stitching/image_processing/transform_i_2.npy')\n",
    "transform_j = np.load('/home/shane/stitching/image_processing/transform_j_2.npy')\n",
    "translate_i = np.load('/home/shane/stitching/image_processing/translate_i_2.npy')\n",
    "translate_j = np.load('/home/shane/stitching/image_processing/translate_j_2.npy')\n",
    "t_i = transform_i[translate_i, translate_j]\n",
    "t_j = transform_j[translate_i, translate_j]\n",
    "img0 = cv2.imread('/home/shane/2.jpg')\n",
    "cv2.imshow('Features', img0[t_i, t_j])\n",
    "cv2.waitKey(0)\n",
    "cv2.destroyAllWindows()"
   ]
  }
 ]
}
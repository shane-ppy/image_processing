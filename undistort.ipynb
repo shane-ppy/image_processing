{
 "metadata": {
  "language_info": {
   "codemirror_mode": {
    "name": "ipython",
    "version": 3
   },
   "file_extension": ".py",
   "mimetype": "text/x-python",
   "name": "python",
   "nbconvert_exporter": "python",
   "pygments_lexer": "ipython3",
   "version": "3.8.2-final"
  },
  "orig_nbformat": 2,
  "kernelspec": {
   "name": "python38264bitae3ca610b16e4dfe86df525899fe1789",
   "display_name": "Python 3.8.2 64-bit"
  }
 },
 "nbformat": 4,
 "nbformat_minor": 2,
 "cells": [
  {
   "cell_type": "code",
   "execution_count": 1,
   "metadata": {},
   "outputs": [],
   "source": [
    "import numpy as np\n",
    "import cv2\n",
    "\n",
    "import os\n",
    "import glob"
   ]
  },
  {
   "cell_type": "code",
   "execution_count": 2,
   "metadata": {},
   "outputs": [],
   "source": [
    "DIM = (1280, 960)\n",
    "K=np.array([[318.218395, 0.0, 640],\n",
    "[0.000000, 319.006022, 480],\n",
    "[0.000000, 0.000000, 1.000000]])\n",
    "D=np.array([0.105789, -0.026515, 0.019449, -0.003727])"
   ]
  },
  {
   "cell_type": "code",
   "execution_count": 3,
   "metadata": {},
   "outputs": [],
   "source": [
    "def undistort(img_path, balance=0.0, dim2=None, dim3=None):\n",
    "    img = cv2.imread(img_path)\n",
    "    dim1 = img.shape[:2][::-1]  #dim1 is the dimension of input image to un-distort    assert dim1[0]/dim1[1] == DIM[0]/DIM[1], \"Image to undistort needs to have same aspect ratio as the ones used in calibration\"    \n",
    "    if not dim2: \n",
    "        dim2 = dim1    \n",
    "    if not dim3:\n",
    "        dim3 = dim1    \n",
    "    scaled_K = K * dim1[0] / DIM[0]  # The values of K is to scale with image dimension.\n",
    "    scaled_K[2][2] = 1.0  # Except that K[2][2] is always 1.0    \n",
    "    # This is how scaled_K, dim2 and balance are used to determine the final K used to un-distort image. OpenCV document failed to make this clear!\n",
    "    new_K = cv2.fisheye.estimateNewCameraMatrixForUndistortRectify(scaled_K, D, dim2, np.eye(3), balance=balance)\n",
    "    map1, map2 = cv2.fisheye.initUndistortRectifyMap(scaled_K, D, np.eye(3), new_K, dim3, cv2.CV_16SC2)\n",
    "    undistorted_img = cv2.remap(img, map1, map2, interpolation=cv2.INTER_LINEAR, borderMode=cv2.BORDER_CONSTANT)\n",
    "\n",
    "    cv2.imwrite(img_path[:-4] + '_undistorted.jpg', undistorted_img)\n",
    "    \n",
    "    # cv2.imshow(\"undistorted\", undistorted_img)\n",
    "    # cv2.waitKey(0)\n",
    "    # cv2.destroyAllWindows()"
   ]
  },
  {
   "cell_type": "code",
   "execution_count": 4,
   "metadata": {},
   "outputs": [],
   "source": [
    "for i in np.arange(140, 401, 20):\n",
    "    undistort('/home/shane/dataset100L/camera0_' + str(i) + '.jpg')"
   ]
  },
  {
   "cell_type": "code",
   "execution_count": 4,
   "metadata": {},
   "outputs": [],
   "source": [
    "undistort('/home/shane/camera0.jpg')"
   ]
  }
 ]
}
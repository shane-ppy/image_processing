{
 "metadata": {
  "language_info": {
   "codemirror_mode": {
    "name": "ipython",
    "version": 3
   },
   "file_extension": ".py",
   "mimetype": "text/x-python",
   "name": "python",
   "nbconvert_exporter": "python",
   "pygments_lexer": "ipython3",
   "version": "3.8.2-final"
  },
  "orig_nbformat": 2,
  "kernelspec": {
   "name": "python38264bitae3ca610b16e4dfe86df525899fe1789",
   "display_name": "Python 3.8.2 64-bit"
  }
 },
 "nbformat": 4,
 "nbformat_minor": 2,
 "cells": [
  {
   "cell_type": "code",
   "execution_count": 2,
   "metadata": {},
   "outputs": [],
   "source": [
    "import numpy as np\n",
    "import cv2\n",
    "\n",
    "import os\n",
    "import glob"
   ]
  },
  {
   "cell_type": "code",
   "execution_count": 5,
   "metadata": {},
   "outputs": [],
   "source": [
    "# Locate points of the documents or object which you want to transform \n",
    "img = cv2.imread('/home/shane/camera0_100.jpg', 1) \n",
    "# pts1 = np.float32([[556, 433], [727, 433], [872, 585], [409,586]]) \n",
    "# ratio=1.4\n",
    "# cardH = np.sqrt((pts1[2][0]-pts1[1][0])*(pts1[2][0]-pts1[1][0])+(pts1[2][1]-pts1[1][1])*(pts1[2][1]-pts1[1][1]))\n",
    "# cardW=ratio*cardH\n",
    "# cardH = int(cardH)\n",
    "# cardW = int(cardW)\n",
    "# pts2 = np.float32([[0,cardW - cardH], [cardW, cardW - cardH], [cardW, cardW], [0, cardW]])\n",
    "pts1 = np.float32([[289, 404],\n",
    "    [990, 404],\n",
    "    [935, 982],\n",
    "    [348, 982]])\n",
    "pts2 = np.float32([[289, 404],\n",
    "    [990, 404],\n",
    "    [924, 914],\n",
    "    [359, 914]])\n",
    "matrix = cv2.getPerspectiveTransform(pts1, pts2) \n",
    "result = cv2.warpPerspective(img, matrix, (1280, 1280)) "
   ]
  },
  {
   "cell_type": "code",
   "execution_count": 6,
   "metadata": {},
   "outputs": [
    {
     "output_type": "execute_result",
     "data": {
      "text/plain": "-1"
     },
     "metadata": {},
     "execution_count": 6
    }
   ],
   "source": [
    "cv2.imshow('test', result)\n",
    "cv2.waitKey(0)  "
   ]
  },
  {
   "cell_type": "code",
   "execution_count": 4,
   "metadata": {
    "tags": []
   },
   "outputs": [
    {
     "output_type": "stream",
     "name": "stdout",
     "text": "[[-4.47272388e-01 -4.29732294e-01  4.34757531e+02]\n [ 3.09871541e-04 -1.21611752e+00  5.04501161e+02]\n [ 3.68894692e-06 -2.91646672e-03  1.00000000e+00]]\n"
    }
   ],
   "source": [
    "print(matrix)"
   ]
  },
  {
   "cell_type": "code",
   "execution_count": 5,
   "metadata": {
    "tags": []
   },
   "outputs": [
    {
     "output_type": "stream",
     "name": "stdout",
     "text": "294\n210\n"
    }
   ],
   "source": [
    "print(cardW)\n",
    "print(cardH)"
   ]
  },
  {
   "cell_type": "code",
   "execution_count": 1,
   "metadata": {
    "tags": []
   },
   "outputs": [
    {
     "output_type": "stream",
     "name": "stdout",
     "text": "The Zen of Python, by Tim Peters\n\nBeautiful is better than ugly.\nExplicit is better than implicit.\nSimple is better than complex.\nComplex is better than complicated.\nFlat is better than nested.\nSparse is better than dense.\nReadability counts.\nSpecial cases aren&#39;t special enough to break the rules.\nAlthough practicality beats purity.\nErrors should never pass silently.\nUnless explicitly silenced.\nIn the face of ambiguity, refuse the temptation to guess.\nThere should be one-- and preferably only one --obvious way to do it.\nAlthough that way may not be obvious at first unless you&#39;re Dutch.\nNow is better than never.\nAlthough never is often better than *right* now.\nIf the implementation is hard to explain, it&#39;s a bad idea.\nIf the implementation is easy to explain, it may be a good idea.\nNamespaces are one honking great idea -- let&#39;s do more of those!\n"
    }
   ],
   "source": [
    "import this"
   ]
  },
  {
   "cell_type": "code",
   "execution_count": 2,
   "metadata": {},
   "outputs": [
    {
     "output_type": "execute_result",
     "data": {
      "text/plain": "5"
     },
     "metadata": {},
     "execution_count": 2
    }
   ],
   "source": [
    "-1 % 6"
   ]
  }
 ]
}
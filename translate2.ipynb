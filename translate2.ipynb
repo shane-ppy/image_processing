{
 "metadata": {
  "language_info": {
   "codemirror_mode": {
    "name": "ipython",
    "version": 3
   },
   "file_extension": ".py",
   "mimetype": "text/x-python",
   "name": "python",
   "nbconvert_exporter": "python",
   "pygments_lexer": "ipython3",
   "version": "3.8.5-final"
  },
  "orig_nbformat": 2,
  "kernelspec": {
   "name": "python38564bitbe99891f348344d585ea07157a03dc4e",
   "display_name": "Python 3.8.5 64-bit",
   "language": "python"
  }
 },
 "nbformat": 4,
 "nbformat_minor": 2,
 "cells": [
  {
   "cell_type": "code",
   "execution_count": 1,
   "metadata": {},
   "outputs": [],
   "source": [
    "import numpy as np\n",
    "import cv2\n",
    "\n",
    "import os\n",
    "import glob\n",
    "from scipy.ndimage import rotate\n",
    "from multiprocessing import Pool\n",
    "from functools import partial"
   ]
  },
  {
   "cell_type": "code",
   "execution_count": 10,
   "metadata": {},
   "outputs": [],
   "source": [
    "size = 860\n",
    "shift = 12"
   ]
  },
  {
   "cell_type": "code",
   "execution_count": 3,
   "metadata": {},
   "outputs": [],
   "source": [
    "def mapping(x, y, theta):\n",
    "    pfish = np.zeros((2, 1))\n",
    "    pfish[0] = y + shift * np.sin(theta)\n",
    "    pfish[1] = x - shift * np.cos(theta)\n",
    "    return np.around(pfish).astype(int)"
   ]
  },
  {
   "cell_type": "code",
   "execution_count": 4,
   "metadata": {},
   "outputs": [],
   "source": [
    "def filter(ind, theta):\n",
    "    i = ind // size\n",
    "    j = ind % size\n",
    "    fishcoord = mapping(j, i, theta)\n",
    "    fishcoord[fishcoord >= size] = 0\n",
    "    fishcoord[fishcoord < 0] = 0\n",
    "    return fishcoord"
   ]
  },
  {
   "cell_type": "code",
   "execution_count": 7,
   "metadata": {},
   "outputs": [],
   "source": [
    "translate_i = np.zeros((860, 860), int)\n",
    "translate_j = np.zeros((860, 860), int)\n",
    "pool = Pool()\n",
    "coords = pool.map(filter, range(860*860))\n",
    "for ind in range(860*860):\n",
    "    i = ind // 860\n",
    "    j = ind % 860\n",
    "    translate_i[i, j] = coords[ind][0]\n",
    "    translate_j[i, j] = coords[ind][1]"
   ]
  },
  {
   "cell_type": "code",
   "execution_count": 11,
   "metadata": {},
   "outputs": [],
   "source": [
    "pool = Pool()\n",
    "for x in range(3):\n",
    "    theta = x * -2 * np.pi / 3 + np.pi / 2\n",
    "    translate_i = np.zeros((860, 860), int)\n",
    "    translate_j = np.zeros((860, 860), int)\n",
    "    coords = pool.map(partial(filter, theta=theta), range(860*860))\n",
    "    for ind in range(860*860):\n",
    "        i = ind // 860\n",
    "        j = ind % 860\n",
    "        translate_i[i, j] = coords[ind][0]\n",
    "        translate_j[i, j] = coords[ind][1]\n",
    "    cam = x * 2\n",
    "    np.save(f'translate_i_{cam}', translate_i)\n",
    "    np.save(f'translate_j_{cam}', translate_j)\n"
   ]
  },
  {
   "cell_type": "code",
   "execution_count": 8,
   "metadata": {},
   "outputs": [],
   "source": [
    "img = cv2.imread('/home/shane/0.jpg')\n",
    "transform_i = np.load('/home/shane/stitching/image_processing/transform_i_0.npy')\n",
    "transform_j = np.load('/home/shane/stitching/image_processing/transform_j_0.npy')\n",
    "transform_img = img[transform_i, transform_j]\n",
    "translate_img = transform_img[translate_i, translate_j]\n",
    "cv2.imshow('test', translate_img)\n",
    "cv2.waitKey(0)\n",
    "cv2.destroyAllWindows()"
   ]
  }
 ]
}
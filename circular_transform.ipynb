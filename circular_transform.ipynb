{
 "metadata": {
  "language_info": {
   "codemirror_mode": {
    "name": "ipython",
    "version": 3
   },
   "file_extension": ".py",
   "mimetype": "text/x-python",
   "name": "python",
   "nbconvert_exporter": "python",
   "pygments_lexer": "ipython3",
   "version": "3.8.5-final"
  },
  "orig_nbformat": 2,
  "kernelspec": {
   "name": "python38264bitae3ca610b16e4dfe86df525899fe1789",
   "display_name": "Python 3.8.2 64-bit"
  }
 },
 "nbformat": 4,
 "nbformat_minor": 2,
 "cells": [
  {
   "cell_type": "code",
   "execution_count": 1,
   "metadata": {},
   "outputs": [],
   "source": [
    "import numpy as np\n",
    "import cv2\n",
    "\n",
    "import os\n",
    "import glob\n",
    "from scipy.ndimage import rotate"
   ]
  },
  {
   "cell_type": "code",
   "execution_count": 2,
   "metadata": {},
   "outputs": [],
   "source": [
    "DIM = (1280, 1280)"
   ]
  },
  {
   "cell_type": "code",
   "execution_count": 13,
   "metadata": {},
   "outputs": [],
   "source": [
    "def mapping(x, y):\n",
    "    theta = 2.0 * np.pi * (x / 2560 - 0.5) # -pi to pi\n",
    "    phi = np.pi * (y / 1280 - 0.5)\t# -pi/2 to pi/2\n",
    "    r = y/2\n",
    "    width = DIM[0]\n",
    "\n",
    "    pfish = np.zeros((2, 1))\n",
    "    pfish[0] = 0.5 * width + r * np.cos(theta)\n",
    "    pfish[1] = 0.5 * width + r * np.sin(theta)\n",
    "    return np.around(pfish).astype(int)"
   ]
  },
  {
   "cell_type": "code",
   "execution_count": 14,
   "metadata": {},
   "outputs": [],
   "source": [
    "circular_i = np.zeros((1280, 1280), int)\n",
    "circular_j = np.zeros((1280, 1280), int)\n",
    "for i in range(1280):\n",
    "    for j in range(2560):\n",
    "        fishcoord = mapping(j, i)\n",
    "        fishcoord[fishcoord >= 1280] = 1279\n",
    "        fishcoord[fishcoord < 0] = 0\n",
    "        circular_i[fishcoord[1], fishcoord[0]] = 1279 - i\n",
    "        circular_j[fishcoord[1], fishcoord[0]] = j"
   ]
  },
  {
   "cell_type": "code",
   "execution_count": 2,
   "metadata": {},
   "outputs": [],
   "source": [
    "circular_i = np.load('/home/shane/stitching/circular_i.npy')\n",
    "circular_j = np.load('/home/shane/stitching/circular_j.npy')"
   ]
  },
  {
   "cell_type": "code",
   "execution_count": 15,
   "metadata": {},
   "outputs": [],
   "source": [
    "img = cv2.imread('/home/shane/test_transformed.jpg')\n",
    "# new_img = np.zeros((1280, 1280, 3), np.uint8)\n",
    "new_img = img[circular_i, circular_j]\n",
    "# new_img = new_img[row60, col60]\n",
    "# cv2.imwrite('/home/shane/test_circular.jpg', new_img)\n",
    "cv2.imshow('test', new_img)\n",
    "cv2.waitKey(0)\n",
    "cv2.destroyAllWindows()"
   ]
  },
  {
   "cell_type": "code",
   "execution_count": 7,
   "metadata": {},
   "outputs": [
    {
     "output_type": "execute_result",
     "data": {
      "text/plain": [
       "array([[[0, 0, 0],\n",
       "        [0, 0, 0],\n",
       "        [0, 0, 0],\n",
       "        ...,\n",
       "        [0, 0, 0],\n",
       "        [0, 0, 0],\n",
       "        [0, 0, 0]],\n",
       "\n",
       "       [[0, 0, 0],\n",
       "        [0, 0, 0],\n",
       "        [0, 0, 0],\n",
       "        ...,\n",
       "        [0, 0, 0],\n",
       "        [0, 0, 0],\n",
       "        [0, 0, 0]],\n",
       "\n",
       "       [[0, 0, 0],\n",
       "        [0, 0, 0],\n",
       "        [0, 0, 0],\n",
       "        ...,\n",
       "        [0, 0, 0],\n",
       "        [0, 0, 0],\n",
       "        [0, 0, 0]],\n",
       "\n",
       "       ...,\n",
       "\n",
       "       [[0, 0, 0],\n",
       "        [0, 0, 0],\n",
       "        [0, 0, 0],\n",
       "        ...,\n",
       "        [0, 0, 0],\n",
       "        [0, 0, 0],\n",
       "        [0, 0, 0]],\n",
       "\n",
       "       [[0, 0, 0],\n",
       "        [0, 0, 0],\n",
       "        [0, 0, 0],\n",
       "        ...,\n",
       "        [0, 0, 0],\n",
       "        [0, 0, 0],\n",
       "        [0, 0, 0]],\n",
       "\n",
       "       [[0, 0, 0],\n",
       "        [0, 0, 0],\n",
       "        [0, 0, 0],\n",
       "        ...,\n",
       "        [0, 0, 0],\n",
       "        [0, 0, 0],\n",
       "        [0, 0, 0]]], dtype=uint8)"
      ]
     },
     "metadata": {},
     "execution_count": 7
    }
   ],
   "source": [
    "new_img"
   ]
  },
  {
   "cell_type": "code",
   "execution_count": 5,
   "metadata": {},
   "outputs": [],
   "source": [
    "def create_circular_mask(h, w, center=None, radius=None):\n",
    "\n",
    "        if center is None: # use the middle of the image\n",
    "            center = (int(w/2), int(h/2))\n",
    "        if radius is None: # use the smallest distance between the center and image walls\n",
    "            radius = min(center[0], center[1], w-center[0], h-center[1])\n",
    "\n",
    "        Y, X = np.ogrid[:h, :w]\n",
    "        dist_from_center = np.sqrt((X - center[0])**2 + (Y-center[1])**2)\n",
    "        col, row = np.meshgrid(np.arange(w), np.arange(h))\n",
    "        theta = np.arctan2(h/2 - row, col-w/2)\n",
    "\n",
    "        mask = np.logical_and(theta >= np.pi / 3, theta <= 2 * np.pi / 3)\n",
    "        mask = np.logical_and(mask, dist_from_center <= radius)\n",
    "        return mask"
   ]
  },
  {
   "cell_type": "code",
   "execution_count": 6,
   "metadata": {},
   "outputs": [],
   "source": [
    "mask = create_circular_mask(1280, 1280, radius=630)"
   ]
  },
  {
   "cell_type": "code",
   "execution_count": 7,
   "metadata": {},
   "outputs": [],
   "source": [
    "col, row = np.meshgrid(np.arange(1280), np.arange(1280))\n",
    "\n",
    "col60 = rotate(col, -60, reshape=False)\n",
    "row60 = rotate(row, -60, reshape=False)\n"
   ]
  }
 ]
}
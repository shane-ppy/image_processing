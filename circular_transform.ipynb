{
 "metadata": {
  "language_info": {
   "codemirror_mode": {
    "name": "ipython",
    "version": 3
   },
   "file_extension": ".py",
   "mimetype": "text/x-python",
   "name": "python",
   "nbconvert_exporter": "python",
   "pygments_lexer": "ipython3",
   "version": "3.8.5-final"
  },
  "orig_nbformat": 2,
  "kernelspec": {
   "name": "python38564bit9e52c3456dfd47b1b3ac7d2ef85a63b2",
   "display_name": "Python 3.8.5 64-bit",
   "language": "python"
  }
 },
 "nbformat": 4,
 "nbformat_minor": 2,
 "cells": [
  {
   "cell_type": "code",
   "execution_count": 1,
   "metadata": {},
   "outputs": [],
   "source": [
    "import numpy as np\n",
    "import cv2\n",
    "\n",
    "import os\n",
    "import glob\n",
    "from scipy.ndimage import rotate\n",
    "from multiprocessing import Pool\n",
    "from functools import partial"
   ]
  },
  {
   "cell_type": "code",
   "execution_count": 5,
   "metadata": {},
   "outputs": [],
   "source": [
    "DIM = (1280, 1280)"
   ]
  },
  {
   "cell_type": "code",
   "execution_count": 9,
   "metadata": {},
   "outputs": [],
   "source": [
    "def mapping(x, y, cam):\n",
    "    stretch = 1.95\n",
    "    if cam == 0:\n",
    "        theta = stretch * np.pi * (x / 2560 - 0.5) - np.pi / 2# -pi to pi\n",
    "    elif cam == 2:\n",
    "        theta = stretch * np.pi * (x / 2560 - 0.5) - np.pi / 2 + 2 * np.pi / 3# -pi to pi\n",
    "    else:\n",
    "        theta = stretch * np.pi * (x / 2560 - 0.5) - np.pi / 2 - 2 * np.pi / 3# -pi to pi\n",
    "    \n",
    "    phi = np.pi * (y / 1280 - 0.5)\t# -pi/2 to pi/2\n",
    "    # r = y/3 + 200\n",
    "    r = y/2\n",
    "    width = DIM[0]\n",
    "\n",
    "    pfish = np.zeros((2, 1))\n",
    "    pfish[0] = 0.5 * width + r * np.cos(theta)\n",
    "    pfish[1] = 0.5 * width + r * np.sin(theta)\n",
    "    return np.around(pfish).astype(int)"
   ]
  },
  {
   "cell_type": "code",
   "execution_count": 3,
   "metadata": {},
   "outputs": [],
   "source": [
    "def filter(cam, ind):\n",
    "    i = ind // 2560\n",
    "    j = ind % 2560\n",
    "    fishcoord = mapping(j, i, cam)\n",
    "    fishcoord[fishcoord >= 1280] = 1279\n",
    "    fishcoord[fishcoord < 0] = 0\n",
    "    return fishcoord"
   ]
  },
  {
   "cell_type": "code",
   "execution_count": 10,
   "metadata": {},
   "outputs": [],
   "source": [
    "pool = Pool()\n",
    "for cam in [0, 2, 4]:\n",
    "    circular_i = np.zeros((1280, 1280), int)\n",
    "    circular_j = np.zeros((1280, 1280), int)\n",
    "    func = partial(filter, cam)\n",
    "    coord = pool.map(func, range(1280 * 2560))\n",
    "    for ind in range(1280 * 2560):\n",
    "        i = ind // 2560\n",
    "        j = ind % 2560\n",
    "        fishcoord = coord[ind]\n",
    "        circular_i[fishcoord[1], fishcoord[0]] = 1279 - i\n",
    "        circular_j[fishcoord[1], fishcoord[0]] = j\n",
    "    np.save(f'circular_i_{cam}', circular_i)\n",
    "    np.save(f'circular_j_{cam}', circular_j)"
   ]
  },
  {
   "cell_type": "code",
   "execution_count": 2,
   "metadata": {},
   "outputs": [],
   "source": [
    "circular_i = np.load('/home/shane/stitching/image_processing/circular_i.npy')\n",
    "circular_j = np.load('/home/shane/stitching/image_processing/circular_j.npy')"
   ]
  },
  {
   "cell_type": "code",
   "execution_count": 5,
   "metadata": {},
   "outputs": [],
   "source": [
    "img = cv2.imread('/home/shane/0as.jpg')\n",
    "# new_img = np.zeros((1280, 1280, 3), np.uint8)\n",
    "new_img = img[circular_i, circular_j]\n",
    "# new_img = new_img[row60, col60]\n",
    "cv2.imwrite('/home/shane/0_cir.jpg', new_img)\n",
    "cv2.imshow('test', new_img)\n",
    "cv2.waitKey(0)\n",
    "cv2.destroyAllWindows()"
   ]
  },
  {
   "cell_type": "code",
   "execution_count": 14,
   "metadata": {},
   "outputs": [],
   "source": [
    "equirec_i = np.load('/home/shane/stitching/image_processing/equirec_i_0.npy')\n",
    "equirec_j = np.load('/home/shane/stitching/image_processing/equirec_j_0.npy')\n",
    "img = cv2.imread('/home/shane/0.jpg')\n",
    "equirec_img = img[equirec_i, equirec_j]\n",
    "circular_img = equirec_img[circular_i, circular_j]\n",
    "cv2.imshow('test', circular_img)\n",
    "cv2.waitKey(0)\n",
    "cv2.destroyAllWindows()"
   ]
  },
  {
   "cell_type": "code",
   "execution_count": 5,
   "metadata": {},
   "outputs": [],
   "source": [
    "def create_circular_mask(h, w, center=None, radius=None):\n",
    "    if center is None: # use the middle of the image\n",
    "        center = (int(w/2), int(h/2))\n",
    "    if radius is None: # use the smallest distance between the center and image walls\n",
    "        radius = min(center[0], center[1], w-center[0], h-center[1])\n",
    "\n",
    "    Y, X = np.ogrid[:h, :w]\n",
    "    dist_from_center = np.sqrt((X - center[0])**2 + (Y-center[1])**2)\n",
    "    col, row = np.meshgrid(np.arange(w), np.arange(h))\n",
    "    theta = np.arctan2(h/2 - row, col-w/2)\n",
    "\n",
    "    mask = np.logical_and(theta >= np.pi / 3, theta <= 2 * np.pi / 3)\n",
    "    mask = np.logical_and(mask, dist_from_center <= radius)\n",
    "    return mask"
   ]
  },
  {
   "cell_type": "code",
   "execution_count": 6,
   "metadata": {},
   "outputs": [],
   "source": [
    "mask = create_circular_mask(1280, 1280, radius=630)"
   ]
  },
  {
   "cell_type": "code",
   "execution_count": 7,
   "metadata": {},
   "outputs": [],
   "source": [
    "col, row = np.meshgrid(np.arange(1280), np.arange(1280))\n",
    "\n",
    "col60 = rotate(col, -60, reshape=False)\n",
    "row60 = rotate(row, -60, reshape=False)\n"
   ]
  }
 ]
}
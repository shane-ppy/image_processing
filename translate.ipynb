{
 "metadata": {
  "language_info": {
   "codemirror_mode": {
    "name": "ipython",
    "version": 3
   },
   "file_extension": ".py",
   "mimetype": "text/x-python",
   "name": "python",
   "nbconvert_exporter": "python",
   "pygments_lexer": "ipython3",
   "version": "3.8.2-final"
  },
  "orig_nbformat": 2,
  "kernelspec": {
   "name": "python38264bitae3ca610b16e4dfe86df525899fe1789",
   "display_name": "Python 3.8.2 64-bit"
  }
 },
 "nbformat": 4,
 "nbformat_minor": 2,
 "cells": [
  {
   "cell_type": "code",
   "execution_count": 53,
   "metadata": {},
   "outputs": [],
   "source": [
    "import numpy as np\n",
    "import cv2\n",
    "\n",
    "import os\n",
    "import glob"
   ]
  },
  {
   "cell_type": "code",
   "execution_count": 55,
   "metadata": {},
   "outputs": [],
   "source": [
    "pts1 = np.float32([[811, 453], [896, 450], [812, 538], [901,535]]) \n",
    "pts2 = np.float32([[167, 420], [255,422], [165, 517], [254,515]]) "
   ]
  },
  {
   "cell_type": "code",
   "execution_count": 85,
   "metadata": {},
   "outputs": [],
   "source": [
    "H, _ = cv2.estimateAffine2D(pts2, pts1)"
   ]
  },
  {
   "cell_type": "code",
   "execution_count": 64,
   "metadata": {},
   "outputs": [],
   "source": [
    "H = np.float32([[1, 0, 623],\n",
    "                [0, 1, 78]])"
   ]
  },
  {
   "cell_type": "code",
   "execution_count": 86,
   "metadata": {},
   "outputs": [],
   "source": [
    "img_1 = cv2.imread('/home/shane/catkin_ws/camera1.jpg', 1) \n",
    "img_2 = cv2.imread('/home/shane/catkin_ws/camera2.jpg', 1) \n",
    "\n",
    "dst = cv2.warpAffine(img_2, H, (1400, 1400))\n",
    "# now paste them together\n",
    "# dst[0:img_2.shape[0], 0:img_2.shape[1]] = img_2\n",
    "dst[0:img_1.shape[0], 0:img_1.shape[1]] = img_1"
   ]
  },
  {
   "cell_type": "code",
   "execution_count": 87,
   "metadata": {},
   "outputs": [
    {
     "output_type": "execute_result",
     "data": {
      "text/plain": "-1"
     },
     "metadata": {},
     "execution_count": 87
    }
   ],
   "source": [
    "cv2.imshow('image', dst)\n",
    "cv2.waitKey(0)"
   ]
  },
  {
   "cell_type": "code",
   "execution_count": 80,
   "metadata": {
    "tags": []
   },
   "outputs": [
    {
     "output_type": "stream",
     "name": "stdout",
     "text": "(array([[ 9.64451503e-01,  6.41338871e-02,  6.23000366e+02],\n       [-5.48497435e-02,  9.13388712e-01,  7.85366479e+01]]), array([[1],\n       [1],\n       [0],\n       [1]], dtype=uint8))\n"
    }
   ],
   "source": [
    "print(H)"
   ]
  }
 ]
}